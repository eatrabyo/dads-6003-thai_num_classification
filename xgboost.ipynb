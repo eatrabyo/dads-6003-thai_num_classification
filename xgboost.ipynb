{
 "cells": [
  {
   "cell_type": "code",
   "execution_count": 1,
   "metadata": {},
   "outputs": [],
   "source": [
    "import numpy as np\n",
    "from sklearn.model_selection import train_test_split,GridSearchCV,cross_val_score,KFold, RandomizedSearchCV,StratifiedKFold,learning_curve\n",
    "from sklearn.metrics import classification_report\n",
    "from sklearn.metrics import auc, accuracy_score, confusion_matrix, mean_squared_error\n",
    "from sklearn.preprocessing import StandardScaler\n",
    "from pycaret.classification import *\n",
    "#import xgboost as xgb\n",
    "from xgboost import XGBClassifier,XGBRFClassifier\n",
    "from tune_sklearn import TuneSearchCV,TuneGridSearchCV\n",
    "from sklearn.pipeline import make_pipeline,Pipeline\n",
    "import matplotlib.pyplot as plt \n",
    "\n",
    "from data_prepare_func import convert_to_array"
   ]
  },
  {
   "cell_type": "code",
   "execution_count": 2,
   "metadata": {},
   "outputs": [],
   "source": [
    "x_kit,y_kit = convert_to_array(\"data_fr_kittinan/\",size=28)\n",
    "x_diy,y_diy = convert_to_array('data_writing_diy/',size=28)"
   ]
  },
  {
   "cell_type": "code",
   "execution_count": 3,
   "metadata": {},
   "outputs": [],
   "source": [
    "x = np.append(x_kit,x_diy,axis=0)\n",
    "\n",
    "y = np.append(y_kit,y_diy,axis=0)"
   ]
  },
  {
   "cell_type": "code",
   "execution_count": 4,
   "metadata": {},
   "outputs": [],
   "source": [
    "x_train, x_test, y_train, y_test = train_test_split(x, y, test_size=0.3, random_state=42,stratify=y)"
   ]
  },
  {
   "cell_type": "code",
   "execution_count": 5,
   "metadata": {},
   "outputs": [],
   "source": [
    "scaler = StandardScaler()\n",
    "x_train = scaler.fit_transform(x_train)\n",
    "x_test = scaler.fit_transform(x_test)"
   ]
  },
  {
   "cell_type": "code",
   "execution_count": 6,
   "metadata": {},
   "outputs": [],
   "source": [
    "pipe_xgb = Pipeline(steps=[\n",
    "    ('scaler', StandardScaler()),\n",
    "    ('classifier', XGBClassifier()) # object='multi:softmax',num_class=4,seed=42,eval_metric='merror'\n",
    "])"
   ]
  },
  {
   "cell_type": "code",
   "execution_count": 9,
   "metadata": {},
   "outputs": [],
   "source": [
    "parameters = {\n",
    "    'max_depth' : [ i for i in range(1,11,1)],\n",
    "}\n",
    "tune = GridSearchCV(XGBRFClassifier(),cv=5,param_grid=parameters,n_jobs=-1,scoring='accuracy')"
   ]
  },
  {
   "cell_type": "code",
   "execution_count": 10,
   "metadata": {},
   "outputs": [
    {
     "name": "stdout",
     "output_type": "stream",
     "text": [
      "{'max_depth': 10}\n"
     ]
    }
   ],
   "source": [
    "tune.fit(x_train, y_train)\n",
    "print(tune.best_params_)"
   ]
  },
  {
   "cell_type": "code",
   "execution_count": 11,
   "metadata": {},
   "outputs": [],
   "source": [
    "parameters = {\n",
    "    'learning_rate': [0.01,0.05,0.1,0.2],\n",
    "}\n",
    "tune = GridSearchCV(XGBRFClassifier(),cv=5,param_grid=parameters,n_jobs=-1,scoring='accuracy')"
   ]
  },
  {
   "cell_type": "code",
   "execution_count": 12,
   "metadata": {},
   "outputs": [
    {
     "name": "stdout",
     "output_type": "stream",
     "text": [
      "{'learning_rate': 0.01}\n"
     ]
    }
   ],
   "source": [
    "tune.fit(x_train, y_train)\n",
    "print(tune.best_params_)"
   ]
  },
  {
   "cell_type": "code",
   "execution_count": 13,
   "metadata": {},
   "outputs": [],
   "source": [
    "parameters = {\n",
    "    'gamma': [0, 0.5, 1],\n",
    "    'reg_alpha': [0, 0.5, 1],\n",
    "    'reg_lambda': [0.5, 1, 5],\n",
    "}\n",
    "tune = GridSearchCV(XGBRFClassifier(),cv=5,param_grid=parameters,n_jobs=-1,scoring='accuracy')"
   ]
  },
  {
   "cell_type": "code",
   "execution_count": 14,
   "metadata": {},
   "outputs": [
    {
     "name": "stdout",
     "output_type": "stream",
     "text": [
      "{'gamma': 0, 'reg_alpha': 0, 'reg_lambda': 0.5}\n"
     ]
    }
   ],
   "source": [
    "tune.fit(x_train, y_train)\n",
    "print(tune.best_params_)"
   ]
  },
  {
   "cell_type": "code",
   "execution_count": 15,
   "metadata": {},
   "outputs": [],
   "source": [
    "parameters = {\n",
    "    'subsample' : [0.5,0.7,0.9],\n",
    "    'colsample_bytree': [0.5,0.7,0.9],\n",
    "}\n",
    "tune = GridSearchCV(XGBRFClassifier(),cv=5,param_grid=parameters,n_jobs=-1,scoring='accuracy')"
   ]
  },
  {
   "cell_type": "code",
   "execution_count": 16,
   "metadata": {},
   "outputs": [
    {
     "name": "stdout",
     "output_type": "stream",
     "text": [
      "{'colsample_bytree': 0.5, 'subsample': 0.7}\n"
     ]
    }
   ],
   "source": [
    "tune.fit(x_train, y_train)\n",
    "print(tune.best_params_)"
   ]
  },
  {
   "cell_type": "code",
   "execution_count": 17,
   "metadata": {},
   "outputs": [],
   "source": [
    "parameters = {\n",
    "    'subsample' : [0.5,0.7,0.9],\n",
    "    'colsample_bytree': [0.5,0.7,0.9],\n",
    "    'tree_method': ['approx','hist','gpu_hist']\n",
    "}\n",
    "tune = GridSearchCV(XGBRFClassifier(),cv=5,param_grid=parameters,n_jobs=-1,scoring='accuracy')"
   ]
  },
  {
   "cell_type": "code",
   "execution_count": 18,
   "metadata": {},
   "outputs": [
    {
     "name": "stdout",
     "output_type": "stream",
     "text": [
      "{'colsample_bytree': 0.5, 'subsample': 0.9, 'tree_method': 'hist'}\n"
     ]
    }
   ],
   "source": [
    "tune.fit(x_train, y_train)\n",
    "print(tune.best_params_)"
   ]
  },
  {
   "cell_type": "code",
   "execution_count": 8,
   "metadata": {},
   "outputs": [
    {
     "data": {
      "text/plain": [
       "Pipeline(steps=[('scaler', StandardScaler()),\n",
       "                ('classifier',\n",
       "                 XGBClassifier(base_score=None, booster=None, callbacks=None,\n",
       "                               colsample_bylevel=0.5, colsample_bynode=0.5,\n",
       "                               colsample_bytree=0.5, early_stopping_rounds=None,\n",
       "                               enable_categorical=False, eval_metric='merror',\n",
       "                               feature_types=None, gamma=0, gpu_id=None,\n",
       "                               grow_policy=None, importance_type=None,\n",
       "                               interaction_constraints=None,\n",
       "                               learning_rate=0.001, max_bin=None,\n",
       "                               max_cat_threshold=None, max_cat_to_onehot=None,\n",
       "                               max_delta_step=None, max_depth=4,\n",
       "                               max_leaves=None, min_child_weight=None,\n",
       "                               missing=nan, monotone_constraints=None,\n",
       "                               n_estimators=140, n_jobs=None,\n",
       "                               num_parallel_tree=None, predictor=None,\n",
       "                               random_state=None, ...))])"
      ]
     },
     "execution_count": 8,
     "metadata": {},
     "output_type": "execute_result"
    }
   ],
   "source": [
    "pipe_xgb.set_params(classifier__max_depth=4,classifier__learning_rate=0.001,classifier__gamma=0,classifier__reg_alpha=1,classifier__reg_lambda=1,classifier__colsample_bytree=0.5,\n",
    "        classifier__subsample=0.7,classifier__tree_method='hist',classifier__n_estimators=140,classifier__eval_metric='merror',\n",
    "        classifier__colsample_bylevel=0.5,classifier__colsample_bynode=0.5)"
   ]
  },
  {
   "cell_type": "code",
   "execution_count": 9,
   "metadata": {},
   "outputs": [],
   "source": [
    "train_sizes, train_scores, test_scores = learning_curve(pipe_xgb, x_train, y_train, cv=5, scoring='accuracy')\n",
    "\n",
    "train_scores_mean = np.mean(train_scores, axis=1)\n",
    "train_scores_std = np.std(train_scores, axis=1)\n",
    "test_scores_mean = np.mean(test_scores, axis=1)\n",
    "test_scores_std = np.std(test_scores, axis=1)"
   ]
  },
  {
   "cell_type": "code",
   "execution_count": 10,
   "metadata": {},
   "outputs": [
    {
     "data": {
      "text/plain": [
       "<matplotlib.legend.Legend at 0x1de8003bca0>"
      ]
     },
     "execution_count": 10,
     "metadata": {},
     "output_type": "execute_result"
    },
    {
     "data": {
      "image/png": "[encoded data removed]",
      "text/plain": [
       "<Figure size 800x550 with 1 Axes>"
      ]
     },
     "metadata": {},
     "output_type": "display_data"
    }
   ],
   "source": [
    "plt.figure()\n",
    "plt.xlabel(\"Training examples\")\n",
    "plt.ylabel(\"Accuracy Score\")\n",
    "\n",
    "plt.grid()\n",
    "\n",
    "plt.fill_between(train_sizes, train_scores_mean - train_scores_std,\n",
    "                    train_scores_mean + train_scores_std, alpha=0.1,\n",
    "                    color=\"r\")\n",
    "plt.fill_between(train_sizes, test_scores_mean - test_scores_std,\n",
    "                    test_scores_mean + test_scores_std, alpha=0.1, color=\"g\")\n",
    "plt.plot(train_sizes, train_scores_mean, 'o-', color=\"r\",\n",
    "            label=\"Training score\")\n",
    "plt.plot(train_sizes, test_scores_mean, 'o-', color=\"g\",\n",
    "            label=\"Cross-validation score\")\n",
    "\n",
    "plt.legend(loc=\"best\")"
   ]
  },
  {
   "cell_type": "code",
   "execution_count": 11,
   "metadata": {},
   "outputs": [],
   "source": [
    "x = np.append(x_kit,x_diy,axis=0)\n",
    "\n",
    "y = np.append(y_kit,y_diy,axis=0)"
   ]
  },
  {
   "cell_type": "code",
   "execution_count": 14,
   "metadata": {},
   "outputs": [],
   "source": [
    "x_train, x_test, y_train, y_test = train_test_split(x, y, test_size=0.3, random_state=42,stratify=y)"
   ]
  },
  {
   "cell_type": "code",
   "execution_count": 17,
   "metadata": {},
   "outputs": [
    {
     "name": "stdout",
     "output_type": "stream",
     "text": [
      "Training xgb set score: 0.8192576654115116\n",
      "Test xgb set score: 0.7092731829573935\n"
     ]
    }
   ],
   "source": [
    "pipe_xgb.fit(x_train, y_train,)\n",
    "\n",
    "print('Training xgb set score: ' + str(pipe_xgb.score(x_train,y_train)))\n",
    "print('Test xgb set score: ' + str(pipe_xgb.score(x_test,y_test)))"
   ]
  },
  {
   "cell_type": "code",
   "execution_count": 18,
   "metadata": {},
   "outputs": [
    {
     "name": "stdout",
     "output_type": "stream",
     "text": [
      "Train Score\n",
      "               precision    recall  f1-score   support\n",
      "\n",
      "           0       0.91      0.94      0.92       185\n",
      "           1       0.98      0.87      0.92       185\n",
      "           2       0.94      0.82      0.88       187\n",
      "           3       0.90      0.93      0.91       188\n",
      "           4       0.82      0.63      0.71       185\n",
      "           5       0.69      0.82      0.75       185\n",
      "           6       0.90      0.82      0.86       185\n",
      "           7       0.82      0.82      0.82       185\n",
      "           8       0.79      0.65      0.72       184\n",
      "           9       0.60      0.89      0.72       190\n",
      "\n",
      "    accuracy                           0.82      1859\n",
      "   macro avg       0.84      0.82      0.82      1859\n",
      "weighted avg       0.84      0.82      0.82      1859\n",
      "\n",
      "Test Score\n",
      "               precision    recall  f1-score   support\n",
      "\n",
      "           0       0.85      0.91      0.88        79\n",
      "           1       0.90      0.90      0.90        80\n",
      "           2       0.83      0.60      0.70        80\n",
      "           3       0.81      0.88      0.84        81\n",
      "           4       0.67      0.44      0.53        79\n",
      "           5       0.62      0.80      0.70        79\n",
      "           6       0.63      0.63      0.63        79\n",
      "           7       0.80      0.64      0.71        80\n",
      "           8       0.64      0.48      0.55        79\n",
      "           9       0.50      0.80      0.62        82\n",
      "\n",
      "    accuracy                           0.71       798\n",
      "   macro avg       0.73      0.71      0.71       798\n",
      "weighted avg       0.73      0.71      0.71       798\n",
      "\n",
      "AVG Accuracy Train: 0.8192576654115116\n",
      "AVG Accuracy Test: 0.7092731829573935\n"
     ]
    }
   ],
   "source": [
    "pipe_xgb.fit(x_train, y_train)\n",
    "\n",
    "train_yhat = pipe_xgb.predict(x_train)\n",
    "train_pipe = pipe_xgb.score(x_train,y_train)\n",
    "\n",
    "test_yhat = pipe_xgb.predict(x_test)\n",
    "test_pipe = pipe_xgb.score(x_test,y_test)\n",
    "print('Train Score\\n',classification_report(y_train,train_yhat))\n",
    "print('Test Score\\n',classification_report(y_test, test_yhat))\n",
    "print(f\"AVG Accuracy Train: {train_pipe}\\nAVG Accuracy Test: {test_pipe}\")\n"
   ]
  },
  {
   "cell_type": "code",
   "execution_count": 20,
   "metadata": {},
   "outputs": [
    {
     "name": "stdout",
     "output_type": "stream",
     "text": [
      "Average xgb cv score: 0.6896\n",
      "xgb SD: 0.021980265008324305\n"
     ]
    }
   ],
   "source": [
    "xgb_val_score = cross_val_score(pipe_xgb,x_train,y_train,scoring='accuracy',cv=5)\n",
    "print(f\"Average xgb cv score: {round(np.mean(xgb_val_score),4)}\\nxgb SD: {xgb_val_score.std()}\")"
   ]
  }
 ],
 "metadata": {
  "kernelspec": {
   "display_name": "base",
   "language": "python",
   "name": "python3"
  },
  "language_info": {
   "codemirror_mode": {
    "name": "ipython",
    "version": 3
   },
   "file_extension": ".py",
   "mimetype": "text/x-python",
   "name": "python",
   "nbconvert_exporter": "python",
   "pygments_lexer": "ipython3",
   "version": "3.9.13"
  },
  "orig_nbformat": 4
 },
 "nbformat": 4,
 "nbformat_minor": 2
}
