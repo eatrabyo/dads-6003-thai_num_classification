{
 "cells": [
  {
   "cell_type": "code",
   "execution_count": 1,
   "metadata": {},
   "outputs": [],
   "source": [
    "import numpy as np\n",
    "from sklearn.model_selection import train_test_split,GridSearchCV,cross_val_score,KFold, RandomizedSearchCV,StratifiedKFold\n",
    "from sklearn.metrics import classification_report\n",
    "from sklearn.metrics import auc, accuracy_score, confusion_matrix, mean_squared_error\n",
    "from sklearn.preprocessing import StandardScaler\n",
    "from pycaret.classification import *\n",
    "#import xgboost as xgb\n",
    "from xgboost import XGBClassifier,XGBRFClassifier\n",
    "from tune_sklearn import TuneSearchCV,TuneGridSearchCV\n",
    "\n",
    "from data_prepare_func import convert_to_array"
   ]
  },
  {
   "cell_type": "code",
   "execution_count": 2,
   "metadata": {},
   "outputs": [],
   "source": [
    "x_kit,y_kit = convert_to_array(\"data_fr_kittinan/\",size=28)\n",
    "x_diy,y_diy = convert_to_array('data_writing_diy/',size=28)"
   ]
  },
  {
   "cell_type": "code",
   "execution_count": 3,
   "metadata": {},
   "outputs": [],
   "source": [
    "x = np.append(x_kit,x_diy,axis=0)\n",
    "\n",
    "y = np.append(y_kit,y_diy,axis=0)"
   ]
  },
  {
   "cell_type": "code",
   "execution_count": 4,
   "metadata": {},
   "outputs": [],
   "source": [
    "x_train, x_test, y_train, y_test = train_test_split(x, y, test_size=0.3, random_state=42,stratify=y)"
   ]
  },
  {
   "cell_type": "code",
   "execution_count": 5,
   "metadata": {},
   "outputs": [],
   "source": [
    "scaler = StandardScaler()\n",
    "x_train = scaler.fit_transform(x_train)\n",
    "x_test = scaler.fit_transform(x_test)"
   ]
  },
  {
   "cell_type": "code",
   "execution_count": 6,
   "metadata": {},
   "outputs": [],
   "source": [
    "xgb = XGBClassifier()\n",
    "xgbrf = XGBRFClassifier()"
   ]
  },
  {
   "attachments": {},
   "cell_type": "markdown",
   "metadata": {},
   "source": [
    "#### XGB"
   ]
  },
  {
   "cell_type": "code",
   "execution_count": 10,
   "metadata": {},
   "outputs": [
    {
     "name": "stdout",
     "output_type": "stream",
     "text": [
      "[[185   0   0   0   0   0   0   0   0   0]\n",
      " [  0 185   0   0   0   0   0   0   0   0]\n",
      " [  0   0 187   0   0   0   0   0   0   0]\n",
      " [  0   0   0 187   0   0   1   0   0   0]\n",
      " [  0   0   0   1 183   0   1   0   0   0]\n",
      " [  0   0   0   1   0 184   0   0   0   0]\n",
      " [  0   0   0   0   0   0 185   0   0   0]\n",
      " [  0   0   0   0   0   0   0 185   0   0]\n",
      " [  0   0   0   0   0   0   1   0 183   0]\n",
      " [  0   0   0   0   1   0   0   0   0 189]]\n"
     ]
    }
   ],
   "source": [
    "xgb = XGBClassifier(objective=\"multi:softprob\", random_state=59)\n",
    "xgb.fit(x_train,y_train)\n",
    "\n",
    "y_pred = xgb.predict(x_train)\n",
    "print(confusion_matrix(y_train, y_pred))"
   ]
  },
  {
   "cell_type": "code",
   "execution_count": 6,
   "metadata": {},
   "outputs": [
    {
     "data": {
      "text/plain": [
       "{'objective': 'multi:softprob',\n",
       " 'use_label_encoder': None,\n",
       " 'base_score': None,\n",
       " 'booster': None,\n",
       " 'callbacks': None,\n",
       " 'colsample_bylevel': None,\n",
       " 'colsample_bynode': None,\n",
       " 'colsample_bytree': None,\n",
       " 'early_stopping_rounds': None,\n",
       " 'enable_categorical': False,\n",
       " 'eval_metric': None,\n",
       " 'feature_types': None,\n",
       " 'gamma': None,\n",
       " 'gpu_id': None,\n",
       " 'grow_policy': None,\n",
       " 'importance_type': None,\n",
       " 'interaction_constraints': None,\n",
       " 'learning_rate': None,\n",
       " 'max_bin': None,\n",
       " 'max_cat_threshold': None,\n",
       " 'max_cat_to_onehot': None,\n",
       " 'max_delta_step': None,\n",
       " 'max_depth': None,\n",
       " 'max_leaves': None,\n",
       " 'min_child_weight': None,\n",
       " 'missing': nan,\n",
       " 'monotone_constraints': None,\n",
       " 'n_estimators': 100,\n",
       " 'n_jobs': None,\n",
       " 'num_parallel_tree': None,\n",
       " 'predictor': None,\n",
       " 'random_state': 59,\n",
       " 'reg_alpha': None,\n",
       " 'reg_lambda': None,\n",
       " 'sampling_method': None,\n",
       " 'scale_pos_weight': None,\n",
       " 'subsample': None,\n",
       " 'tree_method': None,\n",
       " 'validate_parameters': None,\n",
       " 'verbosity': None}"
      ]
     },
     "execution_count": 6,
     "metadata": {},
     "output_type": "execute_result"
    }
   ],
   "source": [
    "xgb.get_params()"
   ]
  },
  {
   "cell_type": "code",
   "execution_count": 7,
   "metadata": {},
   "outputs": [
    {
     "name": "stdout",
     "output_type": "stream",
     "text": [
      "Scores: [0.8125     0.83522727 0.85795455 0.90285714 0.86857143 0.86857143\n",
      " 0.82285714 0.86857143 0.87428571 0.94285714]\n",
      "Mean: 0.8654253246753246\n",
      "Standard Deviation: 0.036174442458010554\n"
     ]
    }
   ],
   "source": [
    "xgb = XGBClassifier(n_estimators=100)\n",
    "scores = cross_val_score(xgb, x_train, y_train, cv=10, scoring = \"accuracy\")\n",
    "print(\"Scores:\", scores)\n",
    "print(\"Mean:\", scores.mean())\n",
    "print(\"Standard Deviation:\", scores.std())"
   ]
  },
  {
   "cell_type": "code",
   "execution_count": 11,
   "metadata": {},
   "outputs": [
    {
     "name": "stdout",
     "output_type": "stream",
     "text": [
      "Train Score\n",
      "               precision    recall  f1-score   support\n",
      "\n",
      "           0       1.00      1.00      1.00       185\n",
      "           1       1.00      1.00      1.00       185\n",
      "           2       1.00      1.00      1.00       187\n",
      "           3       0.99      0.99      0.99       188\n",
      "           4       0.99      0.99      0.99       185\n",
      "           5       1.00      0.99      1.00       185\n",
      "           6       0.98      1.00      0.99       185\n",
      "           7       1.00      1.00      1.00       185\n",
      "           8       1.00      0.99      1.00       184\n",
      "           9       1.00      0.99      1.00       190\n",
      "\n",
      "    accuracy                           1.00      1859\n",
      "   macro avg       1.00      1.00      1.00      1859\n",
      "weighted avg       1.00      1.00      1.00      1859\n",
      "\n",
      "Test Score\n",
      "               precision    recall  f1-score   support\n",
      "\n",
      "           0       0.97      0.76      0.85        79\n",
      "           1       0.81      0.94      0.87        80\n",
      "           2       0.90      0.70      0.79        80\n",
      "           3       0.93      0.93      0.93        81\n",
      "           4       0.58      0.61      0.59        79\n",
      "           5       0.70      0.68      0.69        79\n",
      "           6       0.71      0.76      0.74        79\n",
      "           7       0.71      0.80      0.75        80\n",
      "           8       0.57      0.78      0.66        79\n",
      "           9       0.77      0.54      0.63        82\n",
      "\n",
      "    accuracy                           0.75       798\n",
      "   macro avg       0.76      0.75      0.75       798\n",
      "weighted avg       0.77      0.75      0.75       798\n",
      "\n",
      "Accuracy Score Train: 0.9967724583109199\n",
      "Accuracy Score Test: 0.7493734335839599\n"
     ]
    }
   ],
   "source": [
    "xgb.fit(x_train,y_train)\n",
    "\n",
    "train_yhat = xgb.predict(x_train)\n",
    "train_accuracy = accuracy_score(train_yhat,y_train)\n",
    "\n",
    "test_yhat = xgb.predict(x_test)\n",
    "test_accuracy = accuracy_score(test_yhat,y_test)\n",
    "\n",
    "print('Train Score\\n',classification_report(y_train,train_yhat))\n",
    "print('Test Score\\n',classification_report(y_test,test_yhat))\n",
    "print(f\"Accuracy Score Train: {train_accuracy}\\nAccuracy Score Test: {test_accuracy}\")"
   ]
  },
  {
   "cell_type": "code",
   "execution_count": 9,
   "metadata": {},
   "outputs": [],
   "source": [
    "parameters = {\n",
    "    'max_depth' : [ i for i in range(1,11,1)],\n",
    "}\n",
    "tune = GridSearchCV(XGBRFClassifier(),cv=5,param_grid=parameters,n_jobs=-1,scoring='accuracy')"
   ]
  },
  {
   "cell_type": "code",
   "execution_count": 10,
   "metadata": {},
   "outputs": [
    {
     "name": "stdout",
     "output_type": "stream",
     "text": [
      "{'max_depth': 10}\n"
     ]
    }
   ],
   "source": [
    "tune.fit(x_train, y_train)\n",
    "print(tune.best_params_)"
   ]
  },
  {
   "cell_type": "code",
   "execution_count": 11,
   "metadata": {},
   "outputs": [],
   "source": [
    "parameters = {\n",
    "    'learning_rate': [0.01,0.05,0.1,0.2],\n",
    "}\n",
    "tune = GridSearchCV(XGBRFClassifier(),cv=5,param_grid=parameters,n_jobs=-1,scoring='accuracy')"
   ]
  },
  {
   "cell_type": "code",
   "execution_count": 12,
   "metadata": {},
   "outputs": [
    {
     "name": "stdout",
     "output_type": "stream",
     "text": [
      "{'learning_rate': 0.01}\n"
     ]
    }
   ],
   "source": [
    "tune.fit(x_train, y_train)\n",
    "print(tune.best_params_)"
   ]
  },
  {
   "cell_type": "code",
   "execution_count": 13,
   "metadata": {},
   "outputs": [],
   "source": [
    "parameters = {\n",
    "    'gamma': [0, 0.5, 1],\n",
    "    'reg_alpha': [0, 0.5, 1],\n",
    "    'reg_lambda': [0.5, 1, 5],\n",
    "}\n",
    "tune = GridSearchCV(XGBRFClassifier(),cv=5,param_grid=parameters,n_jobs=-1,scoring='accuracy')"
   ]
  },
  {
   "cell_type": "code",
   "execution_count": 14,
   "metadata": {},
   "outputs": [
    {
     "name": "stdout",
     "output_type": "stream",
     "text": [
      "{'gamma': 0, 'reg_alpha': 0, 'reg_lambda': 0.5}\n"
     ]
    }
   ],
   "source": [
    "tune.fit(x_train, y_train)\n",
    "print(tune.best_params_)"
   ]
  },
  {
   "cell_type": "code",
   "execution_count": 15,
   "metadata": {},
   "outputs": [],
   "source": [
    "parameters = {\n",
    "    'subsample' : [0.5,0.7,0.9],\n",
    "    'colsample_bytree': [0.5,0.7,0.9],\n",
    "}\n",
    "tune = GridSearchCV(XGBRFClassifier(),cv=5,param_grid=parameters,n_jobs=-1,scoring='accuracy')"
   ]
  },
  {
   "cell_type": "code",
   "execution_count": 16,
   "metadata": {},
   "outputs": [
    {
     "name": "stdout",
     "output_type": "stream",
     "text": [
      "{'colsample_bytree': 0.5, 'subsample': 0.7}\n"
     ]
    }
   ],
   "source": [
    "tune.fit(x_train, y_train)\n",
    "print(tune.best_params_)"
   ]
  },
  {
   "cell_type": "code",
   "execution_count": 17,
   "metadata": {},
   "outputs": [],
   "source": [
    "parameters = {\n",
    "    'subsample' : [0.5,0.7,0.9],\n",
    "    'colsample_bytree': [0.5,0.7,0.9],\n",
    "    'tree_method': ['approx','hist','gpu_hist']\n",
    "}\n",
    "tune = GridSearchCV(XGBRFClassifier(),cv=5,param_grid=parameters,n_jobs=-1,scoring='accuracy')"
   ]
  },
  {
   "cell_type": "code",
   "execution_count": 18,
   "metadata": {},
   "outputs": [
    {
     "name": "stdout",
     "output_type": "stream",
     "text": [
      "{'colsample_bytree': 0.5, 'subsample': 0.9, 'tree_method': 'hist'}\n"
     ]
    }
   ],
   "source": [
    "tune.fit(x_train, y_train)\n",
    "print(tune.best_params_)"
   ]
  },
  {
   "cell_type": "code",
   "execution_count": 32,
   "metadata": {},
   "outputs": [],
   "source": [
    "xgb = XGBClassifier(max_depth=4,learning_rate=0.001,gamma=0,reg_alpha=1,reg_lambda=1,colsample_bytree=0.5,\n",
    "        subsample=0.7,tree_method='hist',n_estimators=140,eval_metric='merror',\n",
    "        colsample_bylevel=0.5,colsample_bynode=0.5)"
   ]
  },
  {
   "cell_type": "code",
   "execution_count": 33,
   "metadata": {},
   "outputs": [
    {
     "name": "stdout",
     "output_type": "stream",
     "text": [
      "Train Score\n",
      "               precision    recall  f1-score   support\n",
      "\n",
      "           0       0.91      0.94      0.92       185\n",
      "           1       0.98      0.87      0.92       185\n",
      "           2       0.94      0.82      0.88       187\n",
      "           3       0.90      0.93      0.91       188\n",
      "           4       0.82      0.63      0.71       185\n",
      "           5       0.69      0.82      0.75       185\n",
      "           6       0.90      0.82      0.86       185\n",
      "           7       0.82      0.82      0.82       185\n",
      "           8       0.79      0.65      0.72       184\n",
      "           9       0.60      0.89      0.72       190\n",
      "\n",
      "    accuracy                           0.82      1859\n",
      "   macro avg       0.84      0.82      0.82      1859\n",
      "weighted avg       0.84      0.82      0.82      1859\n",
      "\n",
      "Test Score\n",
      "               precision    recall  f1-score   support\n",
      "\n",
      "           0       0.89      0.85      0.87        79\n",
      "           1       0.89      0.90      0.89        80\n",
      "           2       0.82      0.51      0.63        80\n",
      "           3       0.78      0.90      0.84        81\n",
      "           4       0.59      0.42      0.49        79\n",
      "           5       0.57      0.77      0.66        79\n",
      "           6       0.60      0.63      0.61        79\n",
      "           7       0.74      0.74      0.74        80\n",
      "           8       0.51      0.63      0.56        79\n",
      "           9       0.73      0.65      0.68        82\n",
      "\n",
      "    accuracy                           0.70       798\n",
      "   macro avg       0.71      0.70      0.70       798\n",
      "weighted avg       0.71      0.70      0.70       798\n",
      "\n",
      "Accuracy Score Train: 0.8192576654115116\n",
      "Accuracy Score Test: 0.7005012531328321\n"
     ]
    }
   ],
   "source": [
    "xgb.fit(x_train,y_train)\n",
    "\n",
    "train_yhat = xgb.predict(x_train)\n",
    "train_accuracy = accuracy_score(train_yhat,y_train)\n",
    "\n",
    "test_yhat = xgb.predict(x_test)\n",
    "test_accuracy = accuracy_score(test_yhat,y_test)\n",
    "\n",
    "print('Train Score\\n',classification_report(y_train,train_yhat))\n",
    "print('Test Score\\n',classification_report(y_test,test_yhat))\n",
    "print(f\"Accuracy Score Train: {train_accuracy}\\nAccuracy Score Test: {test_accuracy}\")"
   ]
  },
  {
   "cell_type": "code",
   "execution_count": 34,
   "metadata": {},
   "outputs": [
    {
     "name": "stdout",
     "output_type": "stream",
     "text": [
      "Scores: [0.68817204 0.66129032 0.71505376 0.66666667 0.69892473 0.70430108\n",
      " 0.70967742 0.71505376 0.66666667 0.68648649]\n",
      "Mean: 0.691229293809939\n",
      "Standard Deviation: 0.019597100744145397\n"
     ]
    }
   ],
   "source": [
    "scores = cross_val_score(xgb, x_train, y_train, cv=10, scoring = \"accuracy\")\n",
    "print(\"Scores:\", scores)\n",
    "print(\"Mean:\", scores.mean())\n",
    "print(\"Standard Deviation:\", scores.std())"
   ]
  }
 ],
 "metadata": {
  "kernelspec": {
   "display_name": "base",
   "language": "python",
   "name": "python3"
  },
  "language_info": {
   "codemirror_mode": {
    "name": "ipython",
    "version": 3
   },
   "file_extension": ".py",
   "mimetype": "text/x-python",
   "name": "python",
   "nbconvert_exporter": "python",
   "pygments_lexer": "ipython3",
   "version": "3.10.10"
  },
  "orig_nbformat": 4
 },
 "nbformat": 4,
 "nbformat_minor": 2
}
