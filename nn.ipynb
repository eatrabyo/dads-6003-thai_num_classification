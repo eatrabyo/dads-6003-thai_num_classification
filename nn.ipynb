{
 "cells": [
  {
   "cell_type": "code",
   "execution_count": 1,
   "metadata": {},
   "outputs": [],
   "source": [
    "import numpy as np\n",
    "from sklearn.model_selection import train_test_split\n",
    "from sklearn.metrics import classification_report\n",
    "from sklearn.metrics import f1_score,accuracy_score\n",
    "from sklearn.preprocessing import StandardScaler\n",
    "from sklearn.model_selection import GridSearchCV\n",
    "from sklearn.neural_network import MLPClassifier\n",
    "\n",
    "from data_prepare_func import convert_to_array\n",
    "\n",
    "from grid_search_utils import plot_grid_search,table_grid_search"
   ]
  },
  {
   "cell_type": "code",
   "execution_count": 2,
   "metadata": {},
   "outputs": [],
   "source": [
    "x_train,y_train = convert_to_array(\"data_train/\",size=28)\n",
    "x_test,y_test = convert_to_array('data_test/',size=28)"
   ]
  },
  {
   "cell_type": "code",
   "execution_count": 3,
   "metadata": {},
   "outputs": [],
   "source": [
    "x = np.append(x_train,x_test,axis=0)\n",
    "\n",
    "y = np.append(y_train,y_test,axis=0)"
   ]
  },
  {
   "cell_type": "code",
   "execution_count": 6,
   "metadata": {},
   "outputs": [],
   "source": [
    "x_train, x_test, y_train, y_test = train_test_split(x, y, test_size=0.3, random_state=42,stratify=y)"
   ]
  },
  {
   "cell_type": "code",
   "execution_count": 7,
   "metadata": {},
   "outputs": [],
   "source": [
    "scaler = StandardScaler()\n",
    "x_train = scaler.fit_transform(x_train)\n",
    "x_test = scaler.fit_transform(x_test)"
   ]
  },
  {
   "cell_type": "code",
   "execution_count": 8,
   "metadata": {},
   "outputs": [],
   "source": [
    "nn0 = MLPClassifier()"
   ]
  },
  {
   "cell_type": "code",
   "execution_count": 9,
   "metadata": {},
   "outputs": [
    {
     "name": "stdout",
     "output_type": "stream",
     "text": [
      "Train Score\n",
      "               precision    recall  f1-score   support\n",
      "\n",
      "           0       1.00      0.99      0.99       185\n",
      "           1       1.00      0.99      1.00       185\n",
      "           2       1.00      0.99      1.00       187\n",
      "           3       1.00      0.98      0.99       188\n",
      "           4       1.00      0.96      0.98       185\n",
      "           5       0.86      0.99      0.92       185\n",
      "           6       0.98      0.96      0.97       185\n",
      "           7       1.00      0.99      1.00       185\n",
      "           8       1.00      0.97      0.99       184\n",
      "           9       1.00      0.98      0.99       190\n",
      "\n",
      "    accuracy                           0.98      1859\n",
      "   macro avg       0.98      0.98      0.98      1859\n",
      "weighted avg       0.98      0.98      0.98      1859\n",
      "\n",
      "Test Score\n",
      "               precision    recall  f1-score   support\n",
      "\n",
      "           0       0.90      0.96      0.93        79\n",
      "           1       0.97      0.94      0.96        80\n",
      "           2       0.91      0.80      0.85        80\n",
      "           3       0.89      0.93      0.91        81\n",
      "           4       0.60      0.59      0.60        79\n",
      "           5       0.75      0.71      0.73        79\n",
      "           6       0.69      0.89      0.78        79\n",
      "           7       0.81      0.84      0.82        80\n",
      "           8       0.70      0.57      0.63        79\n",
      "           9       0.74      0.74      0.74        82\n",
      "\n",
      "    accuracy                           0.80       798\n",
      "   macro avg       0.80      0.80      0.79       798\n",
      "weighted avg       0.80      0.80      0.80       798\n",
      "\n",
      "AVG Accuracy-Score Train: 0.9811726734803657\n",
      "AVG Accuracy-Score Test: 0.7969924812030075\n"
     ]
    }
   ],
   "source": [
    "nn0.fit(x_train,y_train)\n",
    "\n",
    "train_yhat0 = nn0.predict(x_train)\n",
    "train_acc0 = accuracy_score(train_yhat0,y_train)\n",
    "\n",
    "test_yhat0 = nn0.predict(x_test)\n",
    "test_acc0 = accuracy_score(test_yhat0,y_test)\n",
    "\n",
    "\n",
    "print('Train Score\\n',classification_report(y_train,train_yhat0))\n",
    "print('Test Score\\n',classification_report(y_test,test_yhat0))\n",
    "print(f\"AVG Accuracy-Score Train: {train_acc0}\\nAVG Accuracy-Score Test: {test_acc0}\")"
   ]
  },
  {
   "cell_type": "code",
   "execution_count": 23,
   "metadata": {},
   "outputs": [],
   "source": [
    "parameters = {\n",
    "    'hidden_layer_sizes': [ (50,50,), (100,),(150,)],\n",
    "    'activation': ['relu', 'tanh','identity','logistic'],\n",
    "    'solver': ['lbfgs','adam','sgd'],\n",
    "    'alpha': [0.0001,0.05,0.1]\n",
    "}"
   ]
  },
  {
   "cell_type": "code",
   "execution_count": 24,
   "metadata": {},
   "outputs": [
    {
     "name": "stdout",
     "output_type": "stream",
     "text": [
      "Best parameter (CV score=0.808):\n",
      "{'activation': 'relu', 'alpha': 0.1, 'hidden_layer_sizes': (150,), 'solver': 'adam'}\n",
      "MLPClassifier(alpha=0.1, hidden_layer_sizes=(150,))\n"
     ]
    }
   ],
   "source": [
    "grid = GridSearchCV(nn0,parameters,cv=5,n_jobs=-1,scoring='accuracy')\n",
    "grid.fit(x_train, y_train)\n",
    "print(\"Best parameter (CV score=%0.3f):\" % grid.best_score_)\n",
    "print(grid.best_params_)\n",
    "print(grid.best_estimator_)"
   ]
  },
  {
   "cell_type": "code",
   "execution_count": 25,
   "metadata": {},
   "outputs": [],
   "source": [
    "nn1 = MLPClassifier(alpha=0.1, hidden_layer_sizes=(150,))\n",
    "# {'activation': 'relu', 'alpha': 0.05, 'hidden_layer_sizes': (100,), 'solver': 'adam'}"
   ]
  },
  {
   "cell_type": "code",
   "execution_count": 26,
   "metadata": {},
   "outputs": [
    {
     "name": "stdout",
     "output_type": "stream",
     "text": [
      "Train Score\n",
      "               precision    recall  f1-score   support\n",
      "\n",
      "           0       1.00      0.99      0.99       185\n",
      "           1       1.00      0.99      1.00       185\n",
      "           2       1.00      0.99      1.00       187\n",
      "           3       1.00      0.98      0.99       188\n",
      "           4       0.99      0.96      0.98       185\n",
      "           5       0.99      0.96      0.97       185\n",
      "           6       0.85      1.00      0.92       185\n",
      "           7       1.00      0.99      0.99       185\n",
      "           8       0.99      0.96      0.98       184\n",
      "           9       1.00      0.98      0.99       190\n",
      "\n",
      "    accuracy                           0.98      1859\n",
      "   macro avg       0.98      0.98      0.98      1859\n",
      "weighted avg       0.98      0.98      0.98      1859\n",
      "\n",
      "Test Score\n",
      "               precision    recall  f1-score   support\n",
      "\n",
      "           0       0.95      0.95      0.95        79\n",
      "           1       0.95      0.95      0.95        80\n",
      "           2       0.94      0.84      0.89        80\n",
      "           3       0.90      0.94      0.92        81\n",
      "           4       0.60      0.63      0.61        79\n",
      "           5       0.76      0.72      0.74        79\n",
      "           6       0.69      0.91      0.79        79\n",
      "           7       0.82      0.82      0.82        80\n",
      "           8       0.81      0.59      0.69        79\n",
      "           9       0.73      0.74      0.74        82\n",
      "\n",
      "    accuracy                           0.81       798\n",
      "   macro avg       0.82      0.81      0.81       798\n",
      "weighted avg       0.82      0.81      0.81       798\n",
      "\n",
      "AVG Accuracy-Score Train: 0.9806347498655191\n",
      "AVG Accuracy-Score Test: 0.8107769423558897\n"
     ]
    }
   ],
   "source": [
    "nn1.fit(x_train,y_train)\n",
    "\n",
    "train_yhat = nn1.predict(x_train)\n",
    "train_acc = accuracy_score(train_yhat,y_train)\n",
    "\n",
    "test_yhat = nn1.predict(x_test)\n",
    "test_acc = accuracy_score(test_yhat,y_test)\n",
    "\n",
    "\n",
    "print('Train Score\\n',classification_report(y_train,train_yhat))\n",
    "print('Test Score\\n',classification_report(y_test,test_yhat))\n",
    "print(f\"AVG Accuracy-Score Train: {train_acc}\\nAVG Accuracy-Score Test: {test_acc}\")"
   ]
  },
  {
   "cell_type": "code",
   "execution_count": null,
   "metadata": {},
   "outputs": [],
   "source": [
    "plot_grid_search(grid)"
   ]
  },
  {
   "cell_type": "code",
   "execution_count": 15,
   "metadata": {},
   "outputs": [
    {
     "name": "stderr",
     "output_type": "stream",
     "text": [
      "c:\\Users\\Asus\\Documents\\GitHub\\dads-6003-thai_num_classification\\grid_search_utils.py:176: FutureWarning: this method is deprecated in favour of `Styler.hide(axis=\"index\")`\n",
      "  cv_results = cv_results.style.hide_index()\n"
     ]
    }
   ],
   "source": [
    "table_grid_search(grid)"
   ]
  }
 ],
 "metadata": {
  "kernelspec": {
   "display_name": "base",
   "language": "python",
   "name": "python3"
  },
  "language_info": {
   "codemirror_mode": {
    "name": "ipython",
    "version": 3
   },
   "file_extension": ".py",
   "mimetype": "text/x-python",
   "name": "python",
   "nbconvert_exporter": "python",
   "pygments_lexer": "ipython3",
   "version": "3.9.13"
  },
  "orig_nbformat": 4
 },
 "nbformat": 4,
 "nbformat_minor": 2
}
