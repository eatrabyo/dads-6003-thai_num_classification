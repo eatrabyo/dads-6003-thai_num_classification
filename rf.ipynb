{
 "cells": [
  {
   "cell_type": "code",
   "execution_count": 54,
   "metadata": {},
   "outputs": [],
   "source": [
    "import numpy as np\n",
    "from sklearn.model_selection import train_test_split\n",
    "from sklearn.decomposition import PCA\n",
    "from sklearn.metrics import classification_report\n",
    "from sklearn.metrics import f1_score\n",
    "from sklearn.preprocessing import StandardScaler\n",
    "from pycaret.classification import *\n",
    "from sklearn.ensemble import RandomForestClassifier,ExtraTreesClassifier\n",
    "from tune_sklearn import TuneSearchCV\n",
    "\n",
    "from data_prepare_func import convert_to_array"
   ]
  },
  {
   "cell_type": "code",
   "execution_count": 55,
   "metadata": {},
   "outputs": [],
   "source": [
    "x_train,y_train = convert_to_array(\"data_train/\",size=28)\n",
    "x_test,y_test = convert_to_array('data_test/',size=28)"
   ]
  },
  {
   "cell_type": "code",
   "execution_count": 56,
   "metadata": {},
   "outputs": [],
   "source": [
    "scaler = StandardScaler()\n",
    "x_train = scaler.fit_transform(x_train)\n",
    "x_test = scaler.fit_transform(x_test)"
   ]
  },
  {
   "cell_type": "code",
   "execution_count": 57,
   "metadata": {},
   "outputs": [
    {
     "data": {
      "text/plain": [
       "array([[ 1.62124166e+00,  3.79524355e-01, -3.10492170e-01, ...,\n",
       "        -1.26921901e-01, -3.14365556e-02, -9.54611695e-02],\n",
       "       [ 3.79524355e-01,  1.01841765e+00, -1.01058590e-01, ...,\n",
       "        -7.35167836e-02, -7.55400382e-03, -1.50609188e-03],\n",
       "       [-3.10492170e-01, -1.01058590e-01,  1.27935792e+00, ...,\n",
       "        -2.87762279e-02,  1.17776895e-01, -5.27562330e-02],\n",
       "       ...,\n",
       "       [-1.26921901e-01, -7.35167836e-02, -2.87762279e-02, ...,\n",
       "         6.58434127e-01,  7.81557680e-02,  1.44305384e-01],\n",
       "       [-3.14365556e-02, -7.55400382e-03,  1.17776895e-01, ...,\n",
       "         7.81557680e-02,  5.86020646e-01,  1.27598651e-03],\n",
       "       [-9.54611695e-02, -1.50609188e-03, -5.27562330e-02, ...,\n",
       "         1.44305384e-01,  1.27598651e-03,  4.39831231e-01]])"
      ]
     },
     "execution_count": 57,
     "metadata": {},
     "output_type": "execute_result"
    }
   ],
   "source": [
    "c = np.cov(x_train)\n",
    "c"
   ]
  },
  {
   "cell_type": "code",
   "execution_count": 58,
   "metadata": {},
   "outputs": [
    {
     "name": "stdout",
     "output_type": "stream",
     "text": [
      "Eigen values:\n",
      " [ 1.02777874e+02+0.00000000e+00j  8.80250774e+01+0.00000000e+00j\n",
      "  6.64228107e+01+0.00000000e+00j ...  1.73562535e-32+4.59556231e-33j\n",
      "  1.73562535e-32-4.59556231e-33j -1.03615086e-47+0.00000000e+00j]\n",
      "Eigen values Shape: (1753,)\n",
      "Eigen Vector Shape: (1753, 1753)\n"
     ]
    }
   ],
   "source": [
    "eigenvalues, eigenvectors = np.linalg.eig(c)\n",
    "print('Eigen values:\\n', eigenvalues)\n",
    "print('Eigen values Shape:', eigenvalues.shape)\n",
    "print('Eigen Vector Shape:', eigenvectors.shape)"
   ]
  },
  {
   "cell_type": "code",
   "execution_count": 59,
   "metadata": {},
   "outputs": [],
   "source": [
    "idx = eigenvalues.argsort()[::-1]\n",
    "\n",
    "# Sort the eigenvalues in descending order\n",
    "eigenvalues = eigenvalues[idx]\n",
    "\n",
    "# sort the corresponding eigenvectors accordingly\n",
    "eigenvectors = eigenvectors[:,idx]"
   ]
  },
  {
   "cell_type": "code",
   "execution_count": 60,
   "metadata": {},
   "outputs": [
    {
     "data": {
      "text/plain": [
       "array([0.06049262-9.83045445e-35j, 0.11230209-1.82498396e-34j,\n",
       "       0.15139698-2.46030204e-34j, ..., 1.        +1.21665077e-18j,\n",
       "       1.        -1.62506681e-33j, 1.        -1.62506681e-33j])"
      ]
     },
     "execution_count": 60,
     "metadata": {},
     "output_type": "execute_result"
    }
   ],
   "source": [
    "explained_var = np.cumsum(eigenvalues) / np.sum(eigenvalues)\n",
    "explained_var"
   ]
  },
  {
   "cell_type": "code",
   "execution_count": 61,
   "metadata": {},
   "outputs": [
    {
     "data": {
      "text/plain": [
       "140"
      ]
     },
     "execution_count": 61,
     "metadata": {},
     "output_type": "execute_result"
    }
   ],
   "source": [
    "n_components = np.argmax(explained_var >= 0.80) + 1\n",
    "n_components"
   ]
  },
  {
   "cell_type": "code",
   "execution_count": 62,
   "metadata": {},
   "outputs": [],
   "source": [
    "pca = PCA(n_components=n_components)\n",
    "pca_x_train = pca.fit_transform(x_train)\n",
    "pca_x_test = pca.fit_transform(x_test)"
   ]
  },
  {
   "cell_type": "code",
   "execution_count": 63,
   "metadata": {},
   "outputs": [
    {
     "data": {
      "text/plain": [
       "(1753, 140)"
      ]
     },
     "execution_count": 63,
     "metadata": {},
     "output_type": "execute_result"
    }
   ],
   "source": [
    "pca_x_train.shape"
   ]
  },
  {
   "cell_type": "code",
   "execution_count": 64,
   "metadata": {},
   "outputs": [
    {
     "data": {
      "text/plain": [
       "(904, 140)"
      ]
     },
     "execution_count": 64,
     "metadata": {},
     "output_type": "execute_result"
    }
   ],
   "source": [
    "pca_x_test.shape"
   ]
  },
  {
   "cell_type": "code",
   "execution_count": 65,
   "metadata": {},
   "outputs": [],
   "source": [
    "# x_train, x_test, y_train, y_test = train_test_split(pca_x, y, test_size=0.3, random_state=42,stratify=y)"
   ]
  },
  {
   "cell_type": "code",
   "execution_count": 66,
   "metadata": {},
   "outputs": [],
   "source": [
    "s = setup(x_train, target = y_train, session_id = 10,fold=5,preprocess=False)"
   ]
  },
  {
   "cell_type": "code",
   "execution_count": 67,
   "metadata": {},
   "outputs": [],
   "source": [
    "best = compare_models()"
   ]
  },
  {
   "cell_type": "code",
   "execution_count": 68,
   "metadata": {},
   "outputs": [
    {
     "data": {
      "text/html": [
       "<div>\n",
       "<style scoped>\n",
       "    .dataframe tbody tr th:only-of-type {\n",
       "        vertical-align: middle;\n",
       "    }\n",
       "\n",
       "    .dataframe tbody tr th {\n",
       "        vertical-align: top;\n",
       "    }\n",
       "\n",
       "    .dataframe thead th {\n",
       "        text-align: right;\n",
       "    }\n",
       "</style>\n",
       "<table border=\"1\" class=\"dataframe\">\n",
       "  <thead>\n",
       "    <tr style=\"text-align: right;\">\n",
       "      <th></th>\n",
       "      <th>Model</th>\n",
       "      <th>Accuracy</th>\n",
       "      <th>AUC</th>\n",
       "      <th>Recall</th>\n",
       "      <th>Prec.</th>\n",
       "      <th>F1</th>\n",
       "      <th>Kappa</th>\n",
       "      <th>MCC</th>\n",
       "      <th>TT (Sec)</th>\n",
       "    </tr>\n",
       "  </thead>\n",
       "  <tbody>\n",
       "    <tr>\n",
       "      <th>et</th>\n",
       "      <td>Extra Trees Classifier</td>\n",
       "      <td>0.8321</td>\n",
       "      <td>0.9816</td>\n",
       "      <td>0.8321</td>\n",
       "      <td>0.8371</td>\n",
       "      <td>0.8313</td>\n",
       "      <td>0.8135</td>\n",
       "      <td>0.8142</td>\n",
       "      <td>0.064</td>\n",
       "    </tr>\n",
       "    <tr>\n",
       "      <th>lightgbm</th>\n",
       "      <td>Light Gradient Boosting Machine</td>\n",
       "      <td>0.8313</td>\n",
       "      <td>0.9820</td>\n",
       "      <td>0.8313</td>\n",
       "      <td>0.8353</td>\n",
       "      <td>0.8292</td>\n",
       "      <td>0.8125</td>\n",
       "      <td>0.8134</td>\n",
       "      <td>0.082</td>\n",
       "    </tr>\n",
       "    <tr>\n",
       "      <th>rf</th>\n",
       "      <td>Random Forest Classifier</td>\n",
       "      <td>0.8305</td>\n",
       "      <td>0.9781</td>\n",
       "      <td>0.8305</td>\n",
       "      <td>0.8355</td>\n",
       "      <td>0.8279</td>\n",
       "      <td>0.8116</td>\n",
       "      <td>0.8127</td>\n",
       "      <td>0.062</td>\n",
       "    </tr>\n",
       "    <tr>\n",
       "      <th>lr</th>\n",
       "      <td>Logistic Regression</td>\n",
       "      <td>0.8272</td>\n",
       "      <td>0.9812</td>\n",
       "      <td>0.8272</td>\n",
       "      <td>0.8346</td>\n",
       "      <td>0.8271</td>\n",
       "      <td>0.8080</td>\n",
       "      <td>0.8089</td>\n",
       "      <td>0.048</td>\n",
       "    </tr>\n",
       "    <tr>\n",
       "      <th>svm</th>\n",
       "      <td>SVM - Linear Kernel</td>\n",
       "      <td>0.8150</td>\n",
       "      <td>0.0000</td>\n",
       "      <td>0.8150</td>\n",
       "      <td>0.8230</td>\n",
       "      <td>0.8151</td>\n",
       "      <td>0.7944</td>\n",
       "      <td>0.7954</td>\n",
       "      <td>0.040</td>\n",
       "    </tr>\n",
       "    <tr>\n",
       "      <th>xgboost</th>\n",
       "      <td>Extreme Gradient Boosting</td>\n",
       "      <td>0.8125</td>\n",
       "      <td>0.9788</td>\n",
       "      <td>0.8125</td>\n",
       "      <td>0.8206</td>\n",
       "      <td>0.8092</td>\n",
       "      <td>0.7917</td>\n",
       "      <td>0.7932</td>\n",
       "      <td>0.046</td>\n",
       "    </tr>\n",
       "    <tr>\n",
       "      <th>gbc</th>\n",
       "      <td>Gradient Boosting Classifier</td>\n",
       "      <td>0.7783</td>\n",
       "      <td>0.9731</td>\n",
       "      <td>0.7783</td>\n",
       "      <td>0.7852</td>\n",
       "      <td>0.7776</td>\n",
       "      <td>0.7537</td>\n",
       "      <td>0.7545</td>\n",
       "      <td>0.112</td>\n",
       "    </tr>\n",
       "    <tr>\n",
       "      <th>knn</th>\n",
       "      <td>K Neighbors Classifier</td>\n",
       "      <td>0.7229</td>\n",
       "      <td>0.9403</td>\n",
       "      <td>0.7229</td>\n",
       "      <td>0.7791</td>\n",
       "      <td>0.7164</td>\n",
       "      <td>0.6921</td>\n",
       "      <td>0.7005</td>\n",
       "      <td>0.048</td>\n",
       "    </tr>\n",
       "    <tr>\n",
       "      <th>nb</th>\n",
       "      <td>Naive Bayes</td>\n",
       "      <td>0.6610</td>\n",
       "      <td>0.8963</td>\n",
       "      <td>0.6610</td>\n",
       "      <td>0.6829</td>\n",
       "      <td>0.6388</td>\n",
       "      <td>0.6232</td>\n",
       "      <td>0.6312</td>\n",
       "      <td>0.044</td>\n",
       "    </tr>\n",
       "    <tr>\n",
       "      <th>dt</th>\n",
       "      <td>Decision Tree Classifier</td>\n",
       "      <td>0.6145</td>\n",
       "      <td>0.7859</td>\n",
       "      <td>0.6145</td>\n",
       "      <td>0.6296</td>\n",
       "      <td>0.6171</td>\n",
       "      <td>0.5717</td>\n",
       "      <td>0.5728</td>\n",
       "      <td>0.048</td>\n",
       "    </tr>\n",
       "    <tr>\n",
       "      <th>lda</th>\n",
       "      <td>Linear Discriminant Analysis</td>\n",
       "      <td>0.4980</td>\n",
       "      <td>0.8489</td>\n",
       "      <td>0.4980</td>\n",
       "      <td>0.5097</td>\n",
       "      <td>0.4976</td>\n",
       "      <td>0.4422</td>\n",
       "      <td>0.4432</td>\n",
       "      <td>0.036</td>\n",
       "    </tr>\n",
       "    <tr>\n",
       "      <th>ridge</th>\n",
       "      <td>Ridge Classifier</td>\n",
       "      <td>0.4727</td>\n",
       "      <td>0.0000</td>\n",
       "      <td>0.4727</td>\n",
       "      <td>0.4952</td>\n",
       "      <td>0.4741</td>\n",
       "      <td>0.4141</td>\n",
       "      <td>0.4159</td>\n",
       "      <td>0.042</td>\n",
       "    </tr>\n",
       "    <tr>\n",
       "      <th>ada</th>\n",
       "      <td>Ada Boost Classifier</td>\n",
       "      <td>0.2257</td>\n",
       "      <td>0.6372</td>\n",
       "      <td>0.2257</td>\n",
       "      <td>0.1916</td>\n",
       "      <td>0.1478</td>\n",
       "      <td>0.1389</td>\n",
       "      <td>0.1687</td>\n",
       "      <td>0.048</td>\n",
       "    </tr>\n",
       "    <tr>\n",
       "      <th>qda</th>\n",
       "      <td>Quadratic Discriminant Analysis</td>\n",
       "      <td>0.1524</td>\n",
       "      <td>0.5293</td>\n",
       "      <td>0.1524</td>\n",
       "      <td>0.3366</td>\n",
       "      <td>0.1091</td>\n",
       "      <td>0.0586</td>\n",
       "      <td>0.0663</td>\n",
       "      <td>0.052</td>\n",
       "    </tr>\n",
       "    <tr>\n",
       "      <th>dummy</th>\n",
       "      <td>Dummy Classifier</td>\n",
       "      <td>0.1011</td>\n",
       "      <td>0.5000</td>\n",
       "      <td>0.1011</td>\n",
       "      <td>0.0102</td>\n",
       "      <td>0.0186</td>\n",
       "      <td>0.0000</td>\n",
       "      <td>0.0000</td>\n",
       "      <td>0.014</td>\n",
       "    </tr>\n",
       "  </tbody>\n",
       "</table>\n",
       "</div>"
      ],
      "text/plain": [
       "                                    Model  Accuracy     AUC  Recall   Prec.  \\\n",
       "et                 Extra Trees Classifier    0.8321  0.9816  0.8321  0.8371   \n",
       "lightgbm  Light Gradient Boosting Machine    0.8313  0.9820  0.8313  0.8353   \n",
       "rf               Random Forest Classifier    0.8305  0.9781  0.8305  0.8355   \n",
       "lr                    Logistic Regression    0.8272  0.9812  0.8272  0.8346   \n",
       "svm                   SVM - Linear Kernel    0.8150  0.0000  0.8150  0.8230   \n",
       "xgboost         Extreme Gradient Boosting    0.8125  0.9788  0.8125  0.8206   \n",
       "gbc          Gradient Boosting Classifier    0.7783  0.9731  0.7783  0.7852   \n",
       "knn                K Neighbors Classifier    0.7229  0.9403  0.7229  0.7791   \n",
       "nb                            Naive Bayes    0.6610  0.8963  0.6610  0.6829   \n",
       "dt               Decision Tree Classifier    0.6145  0.7859  0.6145  0.6296   \n",
       "lda          Linear Discriminant Analysis    0.4980  0.8489  0.4980  0.5097   \n",
       "ridge                    Ridge Classifier    0.4727  0.0000  0.4727  0.4952   \n",
       "ada                  Ada Boost Classifier    0.2257  0.6372  0.2257  0.1916   \n",
       "qda       Quadratic Discriminant Analysis    0.1524  0.5293  0.1524  0.3366   \n",
       "dummy                    Dummy Classifier    0.1011  0.5000  0.1011  0.0102   \n",
       "\n",
       "              F1   Kappa     MCC  TT (Sec)  \n",
       "et        0.8313  0.8135  0.8142     0.064  \n",
       "lightgbm  0.8292  0.8125  0.8134     0.082  \n",
       "rf        0.8279  0.8116  0.8127     0.062  \n",
       "lr        0.8271  0.8080  0.8089     0.048  \n",
       "svm       0.8151  0.7944  0.7954     0.040  \n",
       "xgboost   0.8092  0.7917  0.7932     0.046  \n",
       "gbc       0.7776  0.7537  0.7545     0.112  \n",
       "knn       0.7164  0.6921  0.7005     0.048  \n",
       "nb        0.6388  0.6232  0.6312     0.044  \n",
       "dt        0.6171  0.5717  0.5728     0.048  \n",
       "lda       0.4976  0.4422  0.4432     0.036  \n",
       "ridge     0.4741  0.4141  0.4159     0.042  \n",
       "ada       0.1478  0.1389  0.1687     0.048  \n",
       "qda       0.1091  0.0586  0.0663     0.052  \n",
       "dummy     0.0186  0.0000  0.0000     0.014  "
      ]
     },
     "execution_count": 68,
     "metadata": {},
     "output_type": "execute_result"
    }
   ],
   "source": [
    "pull()"
   ]
  },
  {
   "cell_type": "code",
   "execution_count": 69,
   "metadata": {},
   "outputs": [
    {
     "data": {
      "text/plain": [
       "{'bootstrap': False,\n",
       " 'ccp_alpha': 0.0,\n",
       " 'class_weight': None,\n",
       " 'criterion': 'gini',\n",
       " 'max_depth': None,\n",
       " 'max_features': 'sqrt',\n",
       " 'max_leaf_nodes': None,\n",
       " 'max_samples': None,\n",
       " 'min_impurity_decrease': 0.0,\n",
       " 'min_samples_leaf': 1,\n",
       " 'min_samples_split': 2,\n",
       " 'min_weight_fraction_leaf': 0.0,\n",
       " 'n_estimators': 100,\n",
       " 'n_jobs': -1,\n",
       " 'oob_score': False,\n",
       " 'random_state': 10,\n",
       " 'verbose': 0,\n",
       " 'warm_start': False}"
      ]
     },
     "execution_count": 69,
     "metadata": {},
     "output_type": "execute_result"
    }
   ],
   "source": [
    "best.get_params()"
   ]
  },
  {
   "cell_type": "code",
   "execution_count": 70,
   "metadata": {},
   "outputs": [],
   "source": [
    "rf = RandomForestClassifier(bootstrap=True,ccp_alpha=0.0,class_weight=None,criterion='gini',max_depth=None,\n",
    "                            max_features='sqrt',max_leaf_nodes=None,max_samples=None,min_impurity_decrease=0.0,\n",
    "                            min_samples_leaf=1,min_samples_split=2,min_weight_fraction_leaf=0.0,\n",
    "                            n_estimators=100,n_jobs=-1,oob_score=False,random_state=10,verbose=0,warm_start=False)\n",
    "et = ExtraTreesClassifier(\n",
    "    bootstrap = False,\n",
    " ccp_alpha = 0.0,\n",
    " class_weight =  None,\n",
    " criterion =  'gini',\n",
    " max_depth =  None,\n",
    " max_features = 'sqrt',\n",
    " max_leaf_nodes = None,\n",
    " max_samples = None,\n",
    " min_impurity_decrease = 0.0,\n",
    " min_samples_leaf = 1,\n",
    " min_samples_split = 2,\n",
    " min_weight_fraction_leaf = 0.0,\n",
    " n_estimators = 100,\n",
    " n_jobs = -1,\n",
    " oob_score = False,\n",
    " random_state = 10,\n",
    " verbose = 0,\n",
    " warm_start = False\n",
    ")"
   ]
  },
  {
   "cell_type": "code",
   "execution_count": 71,
   "metadata": {},
   "outputs": [
    {
     "name": "stdout",
     "output_type": "stream",
     "text": [
      "Train Score\n",
      "               precision    recall  f1-score   support\n",
      "\n",
      "           0       1.00      1.00      1.00       173\n",
      "           1       1.00      1.00      1.00       175\n",
      "           2       1.00      1.00      1.00       177\n",
      "           3       1.00      1.00      1.00       178\n",
      "           4       1.00      1.00      1.00       174\n",
      "           5       1.00      1.00      1.00       175\n",
      "           6       1.00      1.00      1.00       174\n",
      "           7       1.00      1.00      1.00       175\n",
      "           8       1.00      1.00      1.00       174\n",
      "           9       1.00      1.00      1.00       178\n",
      "\n",
      "    accuracy                           1.00      1753\n",
      "   macro avg       1.00      1.00      1.00      1753\n",
      "weighted avg       1.00      1.00      1.00      1753\n",
      "\n",
      "Test Score\n",
      "               precision    recall  f1-score   support\n",
      "\n",
      "           0       0.88      0.66      0.75        91\n",
      "           1       0.84      0.83      0.84        90\n",
      "           2       0.84      0.58      0.68        90\n",
      "           3       0.44      0.78      0.57        91\n",
      "           4       0.60      0.44      0.51        90\n",
      "           5       0.47      0.40      0.44        89\n",
      "           6       0.72      0.53      0.61        90\n",
      "           7       0.61      0.60      0.60        90\n",
      "           8       0.47      0.31      0.38        89\n",
      "           9       0.43      0.76      0.54        94\n",
      "\n",
      "    accuracy                           0.59       904\n",
      "   macro avg       0.63      0.59      0.59       904\n",
      "weighted avg       0.63      0.59      0.59       904\n",
      "\n",
      "AVG F1-Score Train: 1.0\n",
      "AVG F1-Score Test: 0.5925827767067859\n"
     ]
    }
   ],
   "source": [
    "et.fit(x_train,y_train)\n",
    "\n",
    "train_yhat = et.predict(x_train)\n",
    "train_f1 = f1_score(train_yhat,y_train,average='macro')\n",
    "\n",
    "test_yhat = et.predict(x_test)\n",
    "test_f1 = f1_score(test_yhat,y_test,average='macro')\n",
    "\n",
    "print('Train Score\\n',classification_report(y_train,train_yhat))\n",
    "print('Test Score\\n',classification_report(y_test,test_yhat))\n",
    "print(f\"AVG F1-Score Train: {train_f1}\\nAVG F1-Score Test: {test_f1}\")"
   ]
  },
  {
   "cell_type": "code",
   "execution_count": null,
   "metadata": {},
   "outputs": [],
   "source": []
  }
 ],
 "metadata": {
  "kernelspec": {
   "display_name": "venv",
   "language": "python",
   "name": "python3"
  },
  "language_info": {
   "codemirror_mode": {
    "name": "ipython",
    "version": 3
   },
   "file_extension": ".py",
   "mimetype": "text/x-python",
   "name": "python",
   "nbconvert_exporter": "python",
   "pygments_lexer": "ipython3",
   "version": "3.10.4"
  },
  "orig_nbformat": 4
 },
 "nbformat": 4,
 "nbformat_minor": 2
}
