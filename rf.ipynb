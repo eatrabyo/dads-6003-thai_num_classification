{
 "cells": [
  {
   "cell_type": "code",
   "execution_count": 1,
   "metadata": {},
   "outputs": [],
   "source": [
    "import numpy as np\n",
    "from sklearn.model_selection import train_test_split\n",
    "from sklearn.decomposition import PCA\n",
    "from sklearn.metrics import classification_report\n",
    "from sklearn.metrics import f1_score\n",
    "from sklearn.preprocessing import StandardScaler\n",
    "from pycaret.classification import *\n",
    "from sklearn.ensemble import RandomForestClassifier\n",
    "from tune_sklearn import TuneSearchCV\n",
    "\n",
    "from data_prepare_func import convert_to_array"
   ]
  },
  {
   "cell_type": "code",
   "execution_count": 2,
   "metadata": {},
   "outputs": [],
   "source": [
    "x,y = convert_to_array(\"data_train/\",size=28)"
   ]
  },
  {
   "cell_type": "code",
   "execution_count": 3,
   "metadata": {},
   "outputs": [],
   "source": [
    "scaler = StandardScaler()\n",
    "x = scaler.fit_transform(x)"
   ]
  },
  {
   "cell_type": "code",
   "execution_count": 4,
   "metadata": {},
   "outputs": [
    {
     "data": {
      "text/plain": [
       "array([[ 0.20120025, -0.00435104,  0.03794997, ..., -0.02316054,\n",
       "         0.04359057, -0.00392678],\n",
       "       [-0.00435104,  0.36546416,  0.01341268, ..., -0.0463836 ,\n",
       "        -0.03184393, -0.02626015],\n",
       "       [ 0.03794997,  0.01341268,  0.13745426, ..., -0.01706125,\n",
       "        -0.00511994, -0.00663046],\n",
       "       ...,\n",
       "       [-0.02316054, -0.0463836 , -0.01706125, ...,  0.32393225,\n",
       "         0.02702315,  0.02491563],\n",
       "       [ 0.04359057, -0.03184393, -0.00511994, ...,  0.02702315,\n",
       "         2.5921294 ,  0.0084614 ],\n",
       "       [-0.00392678, -0.02626015, -0.00663046, ...,  0.02491563,\n",
       "         0.0084614 ,  0.88151797]])"
      ]
     },
     "execution_count": 4,
     "metadata": {},
     "output_type": "execute_result"
    }
   ],
   "source": [
    "c = np.cov(x)\n",
    "c"
   ]
  },
  {
   "cell_type": "code",
   "execution_count": 5,
   "metadata": {},
   "outputs": [
    {
     "name": "stdout",
     "output_type": "stream",
     "text": [
      "Eigen values:\n",
      " [ 3.68945569e+01+0.00000000e+00j  3.17825234e+01+0.00000000e+00j\n",
      "  2.64450528e+01+0.00000000e+00j ... -2.05921038e-34-4.96291326e-33j\n",
      "  1.16148839e-31+0.00000000e+00j -1.45500567e-47+0.00000000e+00j]\n",
      "Eigen values Shape: (1753,)\n",
      "Eigen Vector Shape: (1753, 1753)\n"
     ]
    }
   ],
   "source": [
    "eigenvalues, eigenvectors = np.linalg.eig(c)\n",
    "print('Eigen values:\\n', eigenvalues)\n",
    "print('Eigen values Shape:', eigenvalues.shape)\n",
    "print('Eigen Vector Shape:', eigenvectors.shape)"
   ]
  },
  {
   "cell_type": "code",
   "execution_count": 6,
   "metadata": {},
   "outputs": [],
   "source": [
    "idx = eigenvalues.argsort()[::-1]\n",
    " \n",
    "# Sort the eigenvalues in descending order\n",
    "eigenvalues = eigenvalues[idx]\n",
    " \n",
    "# sort the corresponding eigenvectors accordingly\n",
    "eigenvectors = eigenvectors[:,idx]"
   ]
  },
  {
   "cell_type": "code",
   "execution_count": 7,
   "metadata": {},
   "outputs": [
    {
     "data": {
      "text/plain": [
       "array([0.02270951+6.89181705e-36j, 0.04227244+1.28287182e-35j,\n",
       "       0.05855002+1.77685923e-35j, ..., 1.        +3.03477114e-34j,\n",
       "       1.        +8.32297830e-19j, 1.        +3.03477114e-34j])"
      ]
     },
     "execution_count": 7,
     "metadata": {},
     "output_type": "execute_result"
    }
   ],
   "source": [
    "explained_var = np.cumsum(eigenvalues) / np.sum(eigenvalues)\n",
    "explained_var"
   ]
  },
  {
   "cell_type": "code",
   "execution_count": 8,
   "metadata": {},
   "outputs": [
    {
     "data": {
      "text/plain": [
       "215"
      ]
     },
     "execution_count": 8,
     "metadata": {},
     "output_type": "execute_result"
    }
   ],
   "source": [
    "n_components = np.argmax(explained_var >= 0.80) + 1\n",
    "n_components"
   ]
  },
  {
   "cell_type": "code",
   "execution_count": 9,
   "metadata": {},
   "outputs": [],
   "source": [
    "pca = PCA(n_components=0.8)\n",
    "pca_x = pca.fit_transform(x)"
   ]
  },
  {
   "cell_type": "code",
   "execution_count": 10,
   "metadata": {},
   "outputs": [
    {
     "data": {
      "text/plain": [
       "(1753, 213)"
      ]
     },
     "execution_count": 10,
     "metadata": {},
     "output_type": "execute_result"
    }
   ],
   "source": [
    "pca_x.shape"
   ]
  },
  {
   "cell_type": "code",
   "execution_count": 11,
   "metadata": {},
   "outputs": [],
   "source": [
    "x_train, x_test, y_train, y_test = train_test_split(pca_x, y, test_size=0.3, random_state=42)"
   ]
  },
  {
   "cell_type": "code",
   "execution_count": 12,
   "metadata": {},
   "outputs": [
    {
     "data": {
      "text/html": [
       "<style type=\"text/css\">\n",
       "</style>\n",
       "<table id=\"T_131fc\">\n",
       "  <thead>\n",
       "    <tr>\n",
       "      <th class=\"blank level0\" >&nbsp;</th>\n",
       "      <th id=\"T_131fc_level0_col0\" class=\"col_heading level0 col0\" >Description</th>\n",
       "      <th id=\"T_131fc_level0_col1\" class=\"col_heading level0 col1\" >Value</th>\n",
       "    </tr>\n",
       "  </thead>\n",
       "  <tbody>\n",
       "    <tr>\n",
       "      <th id=\"T_131fc_level0_row0\" class=\"row_heading level0 row0\" >0</th>\n",
       "      <td id=\"T_131fc_row0_col0\" class=\"data row0 col0\" >Session id</td>\n",
       "      <td id=\"T_131fc_row0_col1\" class=\"data row0 col1\" >10</td>\n",
       "    </tr>\n",
       "    <tr>\n",
       "      <th id=\"T_131fc_level0_row1\" class=\"row_heading level0 row1\" >1</th>\n",
       "      <td id=\"T_131fc_row1_col0\" class=\"data row1 col0\" >Target</td>\n",
       "      <td id=\"T_131fc_row1_col1\" class=\"data row1 col1\" >target</td>\n",
       "    </tr>\n",
       "    <tr>\n",
       "      <th id=\"T_131fc_level0_row2\" class=\"row_heading level0 row2\" >2</th>\n",
       "      <td id=\"T_131fc_row2_col0\" class=\"data row2 col0\" >Target type</td>\n",
       "      <td id=\"T_131fc_row2_col1\" class=\"data row2 col1\" >Multiclass</td>\n",
       "    </tr>\n",
       "    <tr>\n",
       "      <th id=\"T_131fc_level0_row3\" class=\"row_heading level0 row3\" >3</th>\n",
       "      <td id=\"T_131fc_row3_col0\" class=\"data row3 col0\" >Original data shape</td>\n",
       "      <td id=\"T_131fc_row3_col1\" class=\"data row3 col1\" >(1227, 214)</td>\n",
       "    </tr>\n",
       "    <tr>\n",
       "      <th id=\"T_131fc_level0_row4\" class=\"row_heading level0 row4\" >4</th>\n",
       "      <td id=\"T_131fc_row4_col0\" class=\"data row4 col0\" >Transformed data shape</td>\n",
       "      <td id=\"T_131fc_row4_col1\" class=\"data row4 col1\" >(1227, 214)</td>\n",
       "    </tr>\n",
       "    <tr>\n",
       "      <th id=\"T_131fc_level0_row5\" class=\"row_heading level0 row5\" >5</th>\n",
       "      <td id=\"T_131fc_row5_col0\" class=\"data row5 col0\" >Transformed train set shape</td>\n",
       "      <td id=\"T_131fc_row5_col1\" class=\"data row5 col1\" >(858, 214)</td>\n",
       "    </tr>\n",
       "    <tr>\n",
       "      <th id=\"T_131fc_level0_row6\" class=\"row_heading level0 row6\" >6</th>\n",
       "      <td id=\"T_131fc_row6_col0\" class=\"data row6 col0\" >Transformed test set shape</td>\n",
       "      <td id=\"T_131fc_row6_col1\" class=\"data row6 col1\" >(369, 214)</td>\n",
       "    </tr>\n",
       "    <tr>\n",
       "      <th id=\"T_131fc_level0_row7\" class=\"row_heading level0 row7\" >7</th>\n",
       "      <td id=\"T_131fc_row7_col0\" class=\"data row7 col0\" >Numeric features</td>\n",
       "      <td id=\"T_131fc_row7_col1\" class=\"data row7 col1\" >213</td>\n",
       "    </tr>\n",
       "  </tbody>\n",
       "</table>\n"
      ],
      "text/plain": [
       "<pandas.io.formats.style.Styler at 0x28fcfed40>"
      ]
     },
     "metadata": {},
     "output_type": "display_data"
    }
   ],
   "source": [
    "s = setup(x_train, target = y_train, session_id = 10,fold=5,preprocess=False)"
   ]
  },
  {
   "cell_type": "code",
   "execution_count": 13,
   "metadata": {},
   "outputs": [
    {
     "data": {
      "text/html": [
       "<div>\n",
       "<style scoped>\n",
       "    .dataframe tbody tr th:only-of-type {\n",
       "        vertical-align: middle;\n",
       "    }\n",
       "\n",
       "    .dataframe tbody tr th {\n",
       "        vertical-align: top;\n",
       "    }\n",
       "\n",
       "    .dataframe thead th {\n",
       "        text-align: right;\n",
       "    }\n",
       "</style>\n",
       "<table border=\"1\" class=\"dataframe\">\n",
       "  <thead>\n",
       "    <tr style=\"text-align: right;\">\n",
       "      <th></th>\n",
       "      <th></th>\n",
       "      <th></th>\n",
       "    </tr>\n",
       "    <tr>\n",
       "      <th></th>\n",
       "      <th></th>\n",
       "      <th></th>\n",
       "    </tr>\n",
       "  </thead>\n",
       "  <tbody>\n",
       "    <tr>\n",
       "      <th>Initiated</th>\n",
       "      <td>. . . . . . . . . . . . . . . . . .</td>\n",
       "      <td>17:58:12</td>\n",
       "    </tr>\n",
       "    <tr>\n",
       "      <th>Status</th>\n",
       "      <td>. . . . . . . . . . . . . . . . . .</td>\n",
       "      <td>Loading Dependencies</td>\n",
       "    </tr>\n",
       "    <tr>\n",
       "      <th>Estimator</th>\n",
       "      <td>. . . . . . . . . . . . . . . . . .</td>\n",
       "      <td>Compiling Library</td>\n",
       "    </tr>\n",
       "  </tbody>\n",
       "</table>\n",
       "</div>"
      ],
      "text/plain": [
       "                                                                    \n",
       "                                                                    \n",
       "Initiated  . . . . . . . . . . . . . . . . . .              17:58:12\n",
       "Status     . . . . . . . . . . . . . . . . . .  Loading Dependencies\n",
       "Estimator  . . . . . . . . . . . . . . . . . .     Compiling Library"
      ]
     },
     "metadata": {},
     "output_type": "display_data"
    },
    {
     "data": {
      "text/html": [],
      "text/plain": [
       "<IPython.core.display.HTML object>"
      ]
     },
     "metadata": {},
     "output_type": "display_data"
    }
   ],
   "source": [
    "best = compare_models()"
   ]
  },
  {
   "cell_type": "code",
   "execution_count": 14,
   "metadata": {},
   "outputs": [
    {
     "data": {
      "text/html": [
       "<div>\n",
       "<style scoped>\n",
       "    .dataframe tbody tr th:only-of-type {\n",
       "        vertical-align: middle;\n",
       "    }\n",
       "\n",
       "    .dataframe tbody tr th {\n",
       "        vertical-align: top;\n",
       "    }\n",
       "\n",
       "    .dataframe thead th {\n",
       "        text-align: right;\n",
       "    }\n",
       "</style>\n",
       "<table border=\"1\" class=\"dataframe\">\n",
       "  <thead>\n",
       "    <tr style=\"text-align: right;\">\n",
       "      <th></th>\n",
       "      <th>Model</th>\n",
       "      <th>Accuracy</th>\n",
       "      <th>AUC</th>\n",
       "      <th>Recall</th>\n",
       "      <th>Prec.</th>\n",
       "      <th>F1</th>\n",
       "      <th>Kappa</th>\n",
       "      <th>MCC</th>\n",
       "      <th>TT (Sec)</th>\n",
       "    </tr>\n",
       "  </thead>\n",
       "  <tbody>\n",
       "    <tr>\n",
       "      <th>rf</th>\n",
       "      <td>Random Forest Classifier</td>\n",
       "      <td>0.5326</td>\n",
       "      <td>0.8736</td>\n",
       "      <td>0.5326</td>\n",
       "      <td>0.5440</td>\n",
       "      <td>0.5293</td>\n",
       "      <td>0.4803</td>\n",
       "      <td>0.4822</td>\n",
       "      <td>0.118</td>\n",
       "    </tr>\n",
       "    <tr>\n",
       "      <th>svm</th>\n",
       "      <td>SVM - Linear Kernel</td>\n",
       "      <td>0.5292</td>\n",
       "      <td>0.0000</td>\n",
       "      <td>0.5292</td>\n",
       "      <td>0.5456</td>\n",
       "      <td>0.5312</td>\n",
       "      <td>0.4769</td>\n",
       "      <td>0.4782</td>\n",
       "      <td>0.026</td>\n",
       "    </tr>\n",
       "    <tr>\n",
       "      <th>lightgbm</th>\n",
       "      <td>Light Gradient Boosting Machine</td>\n",
       "      <td>0.5222</td>\n",
       "      <td>0.8810</td>\n",
       "      <td>0.5222</td>\n",
       "      <td>0.5305</td>\n",
       "      <td>0.5174</td>\n",
       "      <td>0.4689</td>\n",
       "      <td>0.4707</td>\n",
       "      <td>1.152</td>\n",
       "    </tr>\n",
       "    <tr>\n",
       "      <th>lda</th>\n",
       "      <td>Linear Discriminant Analysis</td>\n",
       "      <td>0.5210</td>\n",
       "      <td>0.8494</td>\n",
       "      <td>0.5210</td>\n",
       "      <td>0.5385</td>\n",
       "      <td>0.5192</td>\n",
       "      <td>0.4674</td>\n",
       "      <td>0.4695</td>\n",
       "      <td>0.028</td>\n",
       "    </tr>\n",
       "    <tr>\n",
       "      <th>gbc</th>\n",
       "      <td>Gradient Boosting Classifier</td>\n",
       "      <td>0.5187</td>\n",
       "      <td>0.8706</td>\n",
       "      <td>0.5187</td>\n",
       "      <td>0.5286</td>\n",
       "      <td>0.5172</td>\n",
       "      <td>0.4650</td>\n",
       "      <td>0.4662</td>\n",
       "      <td>5.668</td>\n",
       "    </tr>\n",
       "    <tr>\n",
       "      <th>lr</th>\n",
       "      <td>Logistic Regression</td>\n",
       "      <td>0.5129</td>\n",
       "      <td>0.8401</td>\n",
       "      <td>0.5129</td>\n",
       "      <td>0.5269</td>\n",
       "      <td>0.5140</td>\n",
       "      <td>0.4587</td>\n",
       "      <td>0.4598</td>\n",
       "      <td>0.304</td>\n",
       "    </tr>\n",
       "    <tr>\n",
       "      <th>xgboost</th>\n",
       "      <td>Extreme Gradient Boosting</td>\n",
       "      <td>0.5116</td>\n",
       "      <td>0.8743</td>\n",
       "      <td>0.5116</td>\n",
       "      <td>0.5179</td>\n",
       "      <td>0.5063</td>\n",
       "      <td>0.4572</td>\n",
       "      <td>0.4588</td>\n",
       "      <td>1.192</td>\n",
       "    </tr>\n",
       "    <tr>\n",
       "      <th>ridge</th>\n",
       "      <td>Ridge Classifier</td>\n",
       "      <td>0.4883</td>\n",
       "      <td>0.0000</td>\n",
       "      <td>0.4883</td>\n",
       "      <td>0.5028</td>\n",
       "      <td>0.4880</td>\n",
       "      <td>0.4311</td>\n",
       "      <td>0.4326</td>\n",
       "      <td>0.020</td>\n",
       "    </tr>\n",
       "    <tr>\n",
       "      <th>et</th>\n",
       "      <td>Extra Trees Classifier</td>\n",
       "      <td>0.4826</td>\n",
       "      <td>0.8400</td>\n",
       "      <td>0.4826</td>\n",
       "      <td>0.4955</td>\n",
       "      <td>0.4772</td>\n",
       "      <td>0.4244</td>\n",
       "      <td>0.4271</td>\n",
       "      <td>0.086</td>\n",
       "    </tr>\n",
       "    <tr>\n",
       "      <th>knn</th>\n",
       "      <td>K Neighbors Classifier</td>\n",
       "      <td>0.3835</td>\n",
       "      <td>0.7941</td>\n",
       "      <td>0.3835</td>\n",
       "      <td>0.5426</td>\n",
       "      <td>0.3607</td>\n",
       "      <td>0.3130</td>\n",
       "      <td>0.3332</td>\n",
       "      <td>0.162</td>\n",
       "    </tr>\n",
       "    <tr>\n",
       "      <th>nb</th>\n",
       "      <td>Naive Bayes</td>\n",
       "      <td>0.3088</td>\n",
       "      <td>0.6835</td>\n",
       "      <td>0.3088</td>\n",
       "      <td>0.3702</td>\n",
       "      <td>0.2945</td>\n",
       "      <td>0.2302</td>\n",
       "      <td>0.2422</td>\n",
       "      <td>0.154</td>\n",
       "    </tr>\n",
       "    <tr>\n",
       "      <th>dt</th>\n",
       "      <td>Decision Tree Classifier</td>\n",
       "      <td>0.3076</td>\n",
       "      <td>0.6152</td>\n",
       "      <td>0.3076</td>\n",
       "      <td>0.3041</td>\n",
       "      <td>0.3023</td>\n",
       "      <td>0.2304</td>\n",
       "      <td>0.2310</td>\n",
       "      <td>0.036</td>\n",
       "    </tr>\n",
       "    <tr>\n",
       "      <th>ada</th>\n",
       "      <td>Ada Boost Classifier</td>\n",
       "      <td>0.3007</td>\n",
       "      <td>0.7270</td>\n",
       "      <td>0.3007</td>\n",
       "      <td>0.3177</td>\n",
       "      <td>0.2914</td>\n",
       "      <td>0.2229</td>\n",
       "      <td>0.2254</td>\n",
       "      <td>0.154</td>\n",
       "    </tr>\n",
       "    <tr>\n",
       "      <th>qda</th>\n",
       "      <td>Quadratic Discriminant Analysis</td>\n",
       "      <td>0.1596</td>\n",
       "      <td>0.5341</td>\n",
       "      <td>0.1596</td>\n",
       "      <td>0.0829</td>\n",
       "      <td>0.1062</td>\n",
       "      <td>0.0680</td>\n",
       "      <td>0.0732</td>\n",
       "      <td>0.024</td>\n",
       "    </tr>\n",
       "    <tr>\n",
       "      <th>dummy</th>\n",
       "      <td>Dummy Classifier</td>\n",
       "      <td>0.1072</td>\n",
       "      <td>0.5000</td>\n",
       "      <td>0.1072</td>\n",
       "      <td>0.0115</td>\n",
       "      <td>0.0208</td>\n",
       "      <td>0.0000</td>\n",
       "      <td>0.0000</td>\n",
       "      <td>0.022</td>\n",
       "    </tr>\n",
       "  </tbody>\n",
       "</table>\n",
       "</div>"
      ],
      "text/plain": [
       "                                    Model  Accuracy     AUC  Recall   Prec.  \\\n",
       "rf               Random Forest Classifier    0.5326  0.8736  0.5326  0.5440   \n",
       "svm                   SVM - Linear Kernel    0.5292  0.0000  0.5292  0.5456   \n",
       "lightgbm  Light Gradient Boosting Machine    0.5222  0.8810  0.5222  0.5305   \n",
       "lda          Linear Discriminant Analysis    0.5210  0.8494  0.5210  0.5385   \n",
       "gbc          Gradient Boosting Classifier    0.5187  0.8706  0.5187  0.5286   \n",
       "lr                    Logistic Regression    0.5129  0.8401  0.5129  0.5269   \n",
       "xgboost         Extreme Gradient Boosting    0.5116  0.8743  0.5116  0.5179   \n",
       "ridge                    Ridge Classifier    0.4883  0.0000  0.4883  0.5028   \n",
       "et                 Extra Trees Classifier    0.4826  0.8400  0.4826  0.4955   \n",
       "knn                K Neighbors Classifier    0.3835  0.7941  0.3835  0.5426   \n",
       "nb                            Naive Bayes    0.3088  0.6835  0.3088  0.3702   \n",
       "dt               Decision Tree Classifier    0.3076  0.6152  0.3076  0.3041   \n",
       "ada                  Ada Boost Classifier    0.3007  0.7270  0.3007  0.3177   \n",
       "qda       Quadratic Discriminant Analysis    0.1596  0.5341  0.1596  0.0829   \n",
       "dummy                    Dummy Classifier    0.1072  0.5000  0.1072  0.0115   \n",
       "\n",
       "              F1   Kappa     MCC  TT (Sec)  \n",
       "rf        0.5293  0.4803  0.4822     0.118  \n",
       "svm       0.5312  0.4769  0.4782     0.026  \n",
       "lightgbm  0.5174  0.4689  0.4707     1.152  \n",
       "lda       0.5192  0.4674  0.4695     0.028  \n",
       "gbc       0.5172  0.4650  0.4662     5.668  \n",
       "lr        0.5140  0.4587  0.4598     0.304  \n",
       "xgboost   0.5063  0.4572  0.4588     1.192  \n",
       "ridge     0.4880  0.4311  0.4326     0.020  \n",
       "et        0.4772  0.4244  0.4271     0.086  \n",
       "knn       0.3607  0.3130  0.3332     0.162  \n",
       "nb        0.2945  0.2302  0.2422     0.154  \n",
       "dt        0.3023  0.2304  0.2310     0.036  \n",
       "ada       0.2914  0.2229  0.2254     0.154  \n",
       "qda       0.1062  0.0680  0.0732     0.024  \n",
       "dummy     0.0208  0.0000  0.0000     0.022  "
      ]
     },
     "execution_count": 14,
     "metadata": {},
     "output_type": "execute_result"
    }
   ],
   "source": [
    "pull()"
   ]
  },
  {
   "cell_type": "code",
   "execution_count": 15,
   "metadata": {},
   "outputs": [
    {
     "data": {
      "text/plain": [
       "{'bootstrap': True,\n",
       " 'ccp_alpha': 0.0,\n",
       " 'class_weight': None,\n",
       " 'criterion': 'gini',\n",
       " 'max_depth': None,\n",
       " 'max_features': 'sqrt',\n",
       " 'max_leaf_nodes': None,\n",
       " 'max_samples': None,\n",
       " 'min_impurity_decrease': 0.0,\n",
       " 'min_samples_leaf': 1,\n",
       " 'min_samples_split': 2,\n",
       " 'min_weight_fraction_leaf': 0.0,\n",
       " 'n_estimators': 100,\n",
       " 'n_jobs': -1,\n",
       " 'oob_score': False,\n",
       " 'random_state': 10,\n",
       " 'verbose': 0,\n",
       " 'warm_start': False}"
      ]
     },
     "execution_count": 15,
     "metadata": {},
     "output_type": "execute_result"
    }
   ],
   "source": [
    "best.get_params()"
   ]
  },
  {
   "cell_type": "code",
   "execution_count": 16,
   "metadata": {},
   "outputs": [],
   "source": [
    "rf = RandomForestClassifier(bootstrap=True,ccp_alpha=0.0,class_weight=None,criterion='gini',max_depth=None,\n",
    "                            max_features='sqrt',max_leaf_nodes=None,max_samples=None,min_impurity_decrease=0.0,\n",
    "                            min_samples_leaf=1,min_samples_split=2,min_weight_fraction_leaf=0.0,\n",
    "                            n_estimators=100,n_jobs=-1,oob_score=False,random_state=10,verbose=0,warm_start=False)"
   ]
  },
  {
   "cell_type": "code",
   "execution_count": 17,
   "metadata": {},
   "outputs": [
    {
     "name": "stdout",
     "output_type": "stream",
     "text": [
      "Train Score\n",
      "               precision    recall  f1-score   support\n",
      "\n",
      "           0       1.00      1.00      1.00       132\n",
      "           1       1.00      1.00      1.00       121\n",
      "           2       1.00      1.00      1.00       120\n",
      "           3       1.00      1.00      1.00       124\n",
      "           4       1.00      1.00      1.00       121\n",
      "           5       1.00      1.00      1.00       125\n",
      "           6       1.00      1.00      1.00       116\n",
      "           7       1.00      1.00      1.00       124\n",
      "           8       1.00      1.00      1.00       116\n",
      "           9       1.00      1.00      1.00       128\n",
      "\n",
      "    accuracy                           1.00      1227\n",
      "   macro avg       1.00      1.00      1.00      1227\n",
      "weighted avg       1.00      1.00      1.00      1227\n",
      "\n",
      "Test Score\n",
      "               precision    recall  f1-score   support\n",
      "\n",
      "           0       0.42      0.68      0.52        41\n",
      "           1       0.52      0.56      0.54        54\n",
      "           2       0.72      0.77      0.75        57\n",
      "           3       0.72      0.61      0.66        54\n",
      "           4       0.53      0.49      0.51        53\n",
      "           5       0.61      0.66      0.63        50\n",
      "           6       0.72      0.59      0.65        58\n",
      "           7       0.64      0.69      0.66        51\n",
      "           8       0.56      0.34      0.43        58\n",
      "           9       0.56      0.60      0.58        50\n",
      "\n",
      "    accuracy                           0.60       526\n",
      "   macro avg       0.60      0.60      0.59       526\n",
      "weighted avg       0.61      0.60      0.59       526\n",
      "\n",
      "AVG F1-Score Train: 1.0\n",
      "AVG F1-Score Test: 0.591971218767032\n"
     ]
    }
   ],
   "source": [
    "rf.fit(x_train,y_train)\n",
    "\n",
    "train_yhat = rf.predict(x_train)\n",
    "train_f1 = f1_score(train_yhat,y_train,average='macro')\n",
    "\n",
    "test_yhat = rf.predict(x_test)\n",
    "test_f1 = f1_score(test_yhat,y_test,average='macro')\n",
    "\n",
    "print('Train Score\\n',classification_report(y_train,train_yhat))\n",
    "print('Test Score\\n',classification_report(y_test,test_yhat))\n",
    "print(f\"AVG F1-Score Train: {train_f1}\\nAVG F1-Score Test: {test_f1}\")"
   ]
  },
  {
   "cell_type": "code",
   "execution_count": null,
   "metadata": {},
   "outputs": [],
   "source": []
  }
 ],
 "metadata": {
  "kernelspec": {
   "display_name": "venv",
   "language": "python",
   "name": "python3"
  },
  "language_info": {
   "codemirror_mode": {
    "name": "ipython",
    "version": 3
   },
   "file_extension": ".py",
   "mimetype": "text/x-python",
   "name": "python",
   "nbconvert_exporter": "python",
   "pygments_lexer": "ipython3",
   "version": "3.10.4"
  },
  "orig_nbformat": 4
 },
 "nbformat": 4,
 "nbformat_minor": 2
}
